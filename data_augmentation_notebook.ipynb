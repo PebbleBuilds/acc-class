{
  "nbformat": 4,
  "nbformat_minor": 0,
  "metadata": {
    "colab": {
      "name": "data_augmentation_notebook.ipynb",
      "provenance": []
    },
    "kernelspec": {
      "name": "python3",
      "display_name": "Python 3"
    }
  },
  "cells": [
    {
      "cell_type": "code",
      "metadata": {
        "id": "oitosCCkczju",
        "outputId": "b97c30a9-a837-4bdb-9ca6-ca5c735ab917",
        "colab": {
          "base_uri": "https://localhost:8080/"
        }
      },
      "source": [
        "import os \n",
        "import librosa\n",
        "import librosa.display\n",
        "import numpy as np\n",
        "import matplotlib.pyplot as plt \n",
        "import pylab\n",
        "from PIL import Image\n",
        "\n",
        "from google.colab import drive\n",
        "drive.mount('/content/drive')"
      ],
      "execution_count": 6,
      "outputs": [
        {
          "output_type": "stream",
          "text": [
            "Mounted at /content/drive\n"
          ],
          "name": "stdout"
        }
      ]
    },
    {
      "cell_type": "code",
      "metadata": {
        "id": "iPxK62MvdyIx"
      },
      "source": [
        "class Augment:\n",
        "    def __init__(self):\n",
        "        self.mfcc_data = []\n",
        "        self.bands = 128\n",
        "        self.frames = 128\n",
        "        self.english = 0 \n",
        "        self.hindi = 0\n",
        "        self.mandarin = 0\n",
        "        self.tagalog = 0\n",
        "        self.other = 0\n",
        "        self.samples = 1000\n",
        "\n",
        "    def windows(self,data,window_size):\n",
        "        start = 0 \n",
        "        yield start, start + window_size\n",
        "        start += (window_size / 2)    \n",
        "\n",
        "    def get_MFCC(self, speech):\n",
        "        window_size = 512*127\n",
        "        log_specgrams = []\n",
        "        for (start,end) in self.windows(speech,window_size):\n",
        "            if (len(speech[start:end]) == window_size):\n",
        "                clip_bin = speech[start:end]\n",
        "                mfcc = librosa.feature.melspectrogram(clip_bin,n_mels = self.bands) \n",
        "                logspec = librosa.amplitude_to_db(mfcc)\n",
        "                logspec = logspec.T.flatten()[:,np.newaxis].T\n",
        "                log_specgrams.append(logspec)\n",
        "        log_specgrams = np.array(log_specgrams)\n",
        "        log_specgrams = np.asarray(log_specgrams).reshape(len(log_specgrams),self.bands,self.frames)\n",
        "        feature = log_specgrams\n",
        "        return np.array(feature)\n",
        "        \n",
        "    def save_data(self,data,abs_dir,sub_dir, file_name):\n",
        "        #speech,s = librosa.load(file_path)\n",
        "        #mfcc = librosa.feature.melspectrogram(y = speech,sr = s) \n",
        "        #logspec = librosa.amplitude_to_db(mfcc)\n",
        "        elems = sub_dir.split('/')\n",
        "        new_sub_dir = os.path.join(\"data_mfcc\", elems[1])\n",
        "        if elems[1] == \"english\" :\n",
        "            num = self.english\n",
        "            self.english += 1\n",
        "            if self.english > self.samples:\n",
        "                return True \n",
        "        if elems[1] == \"hindi\":\n",
        "            num = self.hindi\n",
        "            self.hindi += 1\n",
        "            if self.hindi > self.samples:\n",
        "                return True\n",
        "        if elems[1] == \"mandarin\":\n",
        "            num = self.mandarin\n",
        "            self.mandarin += 1 \n",
        "            if self.mandarin > self.samples:\n",
        "                return True\n",
        "        if elems[1] == \"tagalog\":\n",
        "            num = self.tagalog\n",
        "            self.tagalog += 1 \n",
        "            if self.tagalog > self.samples:\n",
        "                return True\n",
        "        else:\n",
        "            num = self.other\n",
        "            self.other += 1 \n",
        "            if self.other > self.samples:\n",
        "                return True\n",
        "                \n",
        "        name_only = file_name.split(\".mp3\")[0]\n",
        "        new_filename = name_only + \"_\" + str(num)\n",
        "        path = [abs_dir,new_sub_dir,new_filename]\n",
        "        save_path = os.path.join(*path)\n",
        "        print(save_path)\n",
        "        pylab.axis('off')\n",
        "        pylab.axes([0., 0., 1., 1.], frameon=False, xticks=[], yticks=[])\n",
        "        librosa.display.specshow(data)\n",
        "        pylab.savefig(save_path, bbox_inches=None, pad_inches=0)\n",
        "        pylab.close()\n",
        "        return True \n",
        "    \n",
        "    def uniform_clip_split(self, abs_dir, sub_dir, file_name, duration):\n",
        "        path = [abs_dir,sub_dir,file_name] \n",
        "        file_path = os.path.join(*path)\n",
        "        speech,s = librosa.load(file_path)\n",
        "        num_frames = int(duration*s)\n",
        "        for (start,end) in self.windows(librosa.get_duration(speech),num_frames):\n",
        "            if (len(speech[start:end]) == num_frames):\n",
        "                clip = speech[start:end]\n",
        "                mfcc = self.get_MFCC(clip)\n",
        "                self.save_data(mfcc,abs_dir,sub_dir,file_name)\n",
        "        return True"
      ],
      "execution_count": 4,
      "outputs": []
    },
    {
      "cell_type": "code",
      "metadata": {
        "id": "VkWP46e8d1ze",
        "outputId": "3abf5e7f-2a0a-43a4-f198-4cf4a5cd7972",
        "colab": {
          "base_uri": "https://localhost:8080/",
          "height": 323
        }
      },
      "source": [
        "data = Augment()\n",
        "data.uniform_clip_split('/content/drive/My Drive/APS360 Group Project', \"placeholder/ignore\", \"test_file.mp3\",0.5)"
      ],
      "execution_count": 8,
      "outputs": [
        {
          "output_type": "error",
          "ename": "UnboundLocalError",
          "evalue": "ignored",
          "traceback": [
            "\u001b[0;31m---------------------------------------------------------------------------\u001b[0m",
            "\u001b[0;31mUnboundLocalError\u001b[0m                         Traceback (most recent call last)",
            "\u001b[0;32m<ipython-input-8-fdbd39a3c113>\u001b[0m in \u001b[0;36m<module>\u001b[0;34m()\u001b[0m\n\u001b[1;32m      1\u001b[0m \u001b[0mdata\u001b[0m \u001b[0;34m=\u001b[0m \u001b[0mAugment\u001b[0m\u001b[0;34m(\u001b[0m\u001b[0;34m)\u001b[0m\u001b[0;34m\u001b[0m\u001b[0;34m\u001b[0m\u001b[0m\n\u001b[0;32m----> 2\u001b[0;31m \u001b[0mdata\u001b[0m\u001b[0;34m.\u001b[0m\u001b[0muniform_clip_split\u001b[0m\u001b[0;34m(\u001b[0m\u001b[0;34m'/content/drive/My Drive/APS360 Group Project'\u001b[0m\u001b[0;34m,\u001b[0m \u001b[0;34m\"placeholder/ignore\"\u001b[0m\u001b[0;34m,\u001b[0m \u001b[0;34m\"test_file.mp3\"\u001b[0m\u001b[0;34m,\u001b[0m\u001b[0;36m0.5\u001b[0m\u001b[0;34m)\u001b[0m\u001b[0;34m\u001b[0m\u001b[0;34m\u001b[0m\u001b[0m\n\u001b[0m",
            "\u001b[0;32m<ipython-input-4-3ffed4061050>\u001b[0m in \u001b[0;36muniform_clip_split\u001b[0;34m(self, abs_dir, sub_dir, file_name, duration)\u001b[0m\n\u001b[1;32m     77\u001b[0m                 \u001b[0mclip\u001b[0m \u001b[0;34m=\u001b[0m \u001b[0mspeech\u001b[0m\u001b[0;34m[\u001b[0m\u001b[0mstart\u001b[0m\u001b[0;34m:\u001b[0m\u001b[0mend\u001b[0m\u001b[0;34m]\u001b[0m\u001b[0;34m\u001b[0m\u001b[0;34m\u001b[0m\u001b[0m\n\u001b[1;32m     78\u001b[0m                 \u001b[0mmfcc\u001b[0m \u001b[0;34m=\u001b[0m \u001b[0mself\u001b[0m\u001b[0;34m.\u001b[0m\u001b[0mget_MFCC\u001b[0m\u001b[0;34m(\u001b[0m\u001b[0mclip\u001b[0m\u001b[0;34m)\u001b[0m\u001b[0;34m\u001b[0m\u001b[0;34m\u001b[0m\u001b[0m\n\u001b[0;32m---> 79\u001b[0;31m                 \u001b[0mself\u001b[0m\u001b[0;34m.\u001b[0m\u001b[0msave_data\u001b[0m\u001b[0;34m(\u001b[0m\u001b[0mmfcc\u001b[0m\u001b[0;34m,\u001b[0m\u001b[0mabs_dir\u001b[0m\u001b[0;34m,\u001b[0m\u001b[0msub_dir\u001b[0m\u001b[0;34m,\u001b[0m\u001b[0mfile_name\u001b[0m\u001b[0;34m)\u001b[0m\u001b[0;34m\u001b[0m\u001b[0;34m\u001b[0m\u001b[0m\n\u001b[0m\u001b[1;32m     80\u001b[0m         \u001b[0;32mreturn\u001b[0m \u001b[0;32mTrue\u001b[0m\u001b[0;34m\u001b[0m\u001b[0;34m\u001b[0m\u001b[0m\n",
            "\u001b[0;32m<ipython-input-4-3ffed4061050>\u001b[0m in \u001b[0;36msave_data\u001b[0;34m(self, data, abs_dir, sub_dir, file_name)\u001b[0m\n\u001b[1;32m     57\u001b[0m                 \u001b[0;32mreturn\u001b[0m \u001b[0;32mTrue\u001b[0m\u001b[0;34m\u001b[0m\u001b[0;34m\u001b[0m\u001b[0m\n\u001b[1;32m     58\u001b[0m         \u001b[0mname_only\u001b[0m \u001b[0;34m=\u001b[0m \u001b[0mfile_name\u001b[0m\u001b[0;34m.\u001b[0m\u001b[0msplit\u001b[0m\u001b[0;34m(\u001b[0m\u001b[0;34m\".mp3\"\u001b[0m\u001b[0;34m)\u001b[0m\u001b[0;34m[\u001b[0m\u001b[0;36m0\u001b[0m\u001b[0;34m]\u001b[0m\u001b[0;34m\u001b[0m\u001b[0;34m\u001b[0m\u001b[0m\n\u001b[0;32m---> 59\u001b[0;31m         \u001b[0mnew_filename\u001b[0m \u001b[0;34m=\u001b[0m \u001b[0mname_only\u001b[0m \u001b[0;34m+\u001b[0m \u001b[0;34m\"_\"\u001b[0m \u001b[0;34m+\u001b[0m \u001b[0mstr\u001b[0m\u001b[0;34m(\u001b[0m\u001b[0mnum\u001b[0m\u001b[0;34m)\u001b[0m\u001b[0;34m\u001b[0m\u001b[0;34m\u001b[0m\u001b[0m\n\u001b[0m\u001b[1;32m     60\u001b[0m         \u001b[0mpath\u001b[0m \u001b[0;34m=\u001b[0m \u001b[0;34m[\u001b[0m\u001b[0mabs_dir\u001b[0m\u001b[0;34m,\u001b[0m\u001b[0mnew_sub_dir\u001b[0m\u001b[0;34m,\u001b[0m\u001b[0mnew_filename\u001b[0m\u001b[0;34m]\u001b[0m\u001b[0;34m\u001b[0m\u001b[0;34m\u001b[0m\u001b[0m\n\u001b[1;32m     61\u001b[0m         \u001b[0msave_path\u001b[0m \u001b[0;34m=\u001b[0m \u001b[0mos\u001b[0m\u001b[0;34m.\u001b[0m\u001b[0mpath\u001b[0m\u001b[0;34m.\u001b[0m\u001b[0mjoin\u001b[0m\u001b[0;34m(\u001b[0m\u001b[0;34m*\u001b[0m\u001b[0mpath\u001b[0m\u001b[0;34m)\u001b[0m\u001b[0;34m\u001b[0m\u001b[0;34m\u001b[0m\u001b[0m\n",
            "\u001b[0;31mUnboundLocalError\u001b[0m: local variable 'num' referenced before assignment"
          ]
        }
      ]
    }
  ]
}