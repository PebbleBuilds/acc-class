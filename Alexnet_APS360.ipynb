{
  "nbformat": 4,
  "nbformat_minor": 0,
  "metadata": {
    "colab": {
      "name": "Alexnet_APS360.ipynb",
      "provenance": []
    },
    "kernelspec": {
      "name": "python3",
      "display_name": "Python 3"
    },
    "widgets": {
      "application/vnd.jupyter.widget-state+json": {
        "adeb70fe8af54bfb9360cf442cc2204c": {
          "model_module": "@jupyter-widgets/controls",
          "model_name": "HBoxModel",
          "state": {
            "_view_name": "HBoxView",
            "_dom_classes": [],
            "_model_name": "HBoxModel",
            "_view_module": "@jupyter-widgets/controls",
            "_model_module_version": "1.5.0",
            "_view_count": null,
            "_view_module_version": "1.5.0",
            "box_style": "",
            "layout": "IPY_MODEL_ae0cd0dd85a14653bde003f1adb87701",
            "_model_module": "@jupyter-widgets/controls",
            "children": [
              "IPY_MODEL_1f5c2e76c8f24b75a22e22ebe94df832",
              "IPY_MODEL_b905268925864cb9896b5fa53148d852"
            ]
          }
        },
        "ae0cd0dd85a14653bde003f1adb87701": {
          "model_module": "@jupyter-widgets/base",
          "model_name": "LayoutModel",
          "state": {
            "_view_name": "LayoutView",
            "grid_template_rows": null,
            "right": null,
            "justify_content": null,
            "_view_module": "@jupyter-widgets/base",
            "overflow": null,
            "_model_module_version": "1.2.0",
            "_view_count": null,
            "flex_flow": null,
            "width": null,
            "min_width": null,
            "border": null,
            "align_items": null,
            "bottom": null,
            "_model_module": "@jupyter-widgets/base",
            "top": null,
            "grid_column": null,
            "overflow_y": null,
            "overflow_x": null,
            "grid_auto_flow": null,
            "grid_area": null,
            "grid_template_columns": null,
            "flex": null,
            "_model_name": "LayoutModel",
            "justify_items": null,
            "grid_row": null,
            "max_height": null,
            "align_content": null,
            "visibility": null,
            "align_self": null,
            "height": null,
            "min_height": null,
            "padding": null,
            "grid_auto_rows": null,
            "grid_gap": null,
            "max_width": null,
            "order": null,
            "_view_module_version": "1.2.0",
            "grid_template_areas": null,
            "object_position": null,
            "object_fit": null,
            "grid_auto_columns": null,
            "margin": null,
            "display": null,
            "left": null
          }
        },
        "1f5c2e76c8f24b75a22e22ebe94df832": {
          "model_module": "@jupyter-widgets/controls",
          "model_name": "FloatProgressModel",
          "state": {
            "_view_name": "ProgressView",
            "style": "IPY_MODEL_366c14cf2d814a2880fc86c41c336ec3",
            "_dom_classes": [],
            "description": "100%",
            "_model_name": "FloatProgressModel",
            "bar_style": "success",
            "max": 244418560,
            "_view_module": "@jupyter-widgets/controls",
            "_model_module_version": "1.5.0",
            "value": 244418560,
            "_view_count": null,
            "_view_module_version": "1.5.0",
            "orientation": "horizontal",
            "min": 0,
            "description_tooltip": null,
            "_model_module": "@jupyter-widgets/controls",
            "layout": "IPY_MODEL_1f3a6b310ebd402693540e1e19daa1e7"
          }
        },
        "b905268925864cb9896b5fa53148d852": {
          "model_module": "@jupyter-widgets/controls",
          "model_name": "HTMLModel",
          "state": {
            "_view_name": "HTMLView",
            "style": "IPY_MODEL_4526bc71f1db446a841c30db11d19342",
            "_dom_classes": [],
            "description": "",
            "_model_name": "HTMLModel",
            "placeholder": "​",
            "_view_module": "@jupyter-widgets/controls",
            "_model_module_version": "1.5.0",
            "value": " 233M/233M [00:01&lt;00:00, 126MB/s]",
            "_view_count": null,
            "_view_module_version": "1.5.0",
            "description_tooltip": null,
            "_model_module": "@jupyter-widgets/controls",
            "layout": "IPY_MODEL_9f9c0bed448b411286f746373fd4c5fe"
          }
        },
        "366c14cf2d814a2880fc86c41c336ec3": {
          "model_module": "@jupyter-widgets/controls",
          "model_name": "ProgressStyleModel",
          "state": {
            "_view_name": "StyleView",
            "_model_name": "ProgressStyleModel",
            "description_width": "initial",
            "_view_module": "@jupyter-widgets/base",
            "_model_module_version": "1.5.0",
            "_view_count": null,
            "_view_module_version": "1.2.0",
            "bar_color": null,
            "_model_module": "@jupyter-widgets/controls"
          }
        },
        "1f3a6b310ebd402693540e1e19daa1e7": {
          "model_module": "@jupyter-widgets/base",
          "model_name": "LayoutModel",
          "state": {
            "_view_name": "LayoutView",
            "grid_template_rows": null,
            "right": null,
            "justify_content": null,
            "_view_module": "@jupyter-widgets/base",
            "overflow": null,
            "_model_module_version": "1.2.0",
            "_view_count": null,
            "flex_flow": null,
            "width": null,
            "min_width": null,
            "border": null,
            "align_items": null,
            "bottom": null,
            "_model_module": "@jupyter-widgets/base",
            "top": null,
            "grid_column": null,
            "overflow_y": null,
            "overflow_x": null,
            "grid_auto_flow": null,
            "grid_area": null,
            "grid_template_columns": null,
            "flex": null,
            "_model_name": "LayoutModel",
            "justify_items": null,
            "grid_row": null,
            "max_height": null,
            "align_content": null,
            "visibility": null,
            "align_self": null,
            "height": null,
            "min_height": null,
            "padding": null,
            "grid_auto_rows": null,
            "grid_gap": null,
            "max_width": null,
            "order": null,
            "_view_module_version": "1.2.0",
            "grid_template_areas": null,
            "object_position": null,
            "object_fit": null,
            "grid_auto_columns": null,
            "margin": null,
            "display": null,
            "left": null
          }
        },
        "4526bc71f1db446a841c30db11d19342": {
          "model_module": "@jupyter-widgets/controls",
          "model_name": "DescriptionStyleModel",
          "state": {
            "_view_name": "StyleView",
            "_model_name": "DescriptionStyleModel",
            "description_width": "",
            "_view_module": "@jupyter-widgets/base",
            "_model_module_version": "1.5.0",
            "_view_count": null,
            "_view_module_version": "1.2.0",
            "_model_module": "@jupyter-widgets/controls"
          }
        },
        "9f9c0bed448b411286f746373fd4c5fe": {
          "model_module": "@jupyter-widgets/base",
          "model_name": "LayoutModel",
          "state": {
            "_view_name": "LayoutView",
            "grid_template_rows": null,
            "right": null,
            "justify_content": null,
            "_view_module": "@jupyter-widgets/base",
            "overflow": null,
            "_model_module_version": "1.2.0",
            "_view_count": null,
            "flex_flow": null,
            "width": null,
            "min_width": null,
            "border": null,
            "align_items": null,
            "bottom": null,
            "_model_module": "@jupyter-widgets/base",
            "top": null,
            "grid_column": null,
            "overflow_y": null,
            "overflow_x": null,
            "grid_auto_flow": null,
            "grid_area": null,
            "grid_template_columns": null,
            "flex": null,
            "_model_name": "LayoutModel",
            "justify_items": null,
            "grid_row": null,
            "max_height": null,
            "align_content": null,
            "visibility": null,
            "align_self": null,
            "height": null,
            "min_height": null,
            "padding": null,
            "grid_auto_rows": null,
            "grid_gap": null,
            "max_width": null,
            "order": null,
            "_view_module_version": "1.2.0",
            "grid_template_areas": null,
            "object_position": null,
            "object_fit": null,
            "grid_auto_columns": null,
            "margin": null,
            "display": null,
            "left": null
          }
        }
      }
    }
  },
  "cells": [
    {
      "cell_type": "code",
      "metadata": {
        "id": "RmGPyK6Wc42Y"
      },
      "source": [
        "import numpy as np\n",
        "import time\n",
        "import torch\n",
        "import torch.nn as nn\n",
        "import torch.nn.functional as F\n",
        "import torch.optim as optim\n",
        "import torchvision\n",
        "from torch.utils.data.sampler import SubsetRandomSampler\n",
        "import torchvision.transforms as transforms"
      ],
      "execution_count": 1,
      "outputs": []
    },
    {
      "cell_type": "code",
      "metadata": {
        "id": "m1ijIEnbbtSt",
        "outputId": "ab46a8d4-cb35-47a0-96c8-9de1cb0bb7bd",
        "colab": {
          "base_uri": "https://localhost:8080/"
        }
      },
      "source": [
        "from google.colab import drive\n",
        "drive.mount('/content/gdrive')"
      ],
      "execution_count": 2,
      "outputs": [
        {
          "output_type": "stream",
          "text": [
            "Mounted at /content/gdrive\n"
          ],
          "name": "stdout"
        }
      ]
    },
    {
      "cell_type": "code",
      "metadata": {
        "id": "pCwFNNLL4ahn",
        "outputId": "691f6527-5016-4a81-85e7-a46bdbc87481",
        "colab": {
          "base_uri": "https://localhost:8080/"
        }
      },
      "source": [
        "!pip install split-folders"
      ],
      "execution_count": 3,
      "outputs": [
        {
          "output_type": "stream",
          "text": [
            "Collecting split-folders\n",
            "  Downloading https://files.pythonhosted.org/packages/b8/5f/3c2b2f7ea5e047c8cdc3bb00ae582c5438fcdbbedcc23b3cc1c2c7aae642/split_folders-0.4.3-py3-none-any.whl\n",
            "Installing collected packages: split-folders\n",
            "Successfully installed split-folders-0.4.3\n"
          ],
          "name": "stdout"
        }
      ]
    },
    {
      "cell_type": "code",
      "metadata": {
        "id": "5mtUiKbvbwYE",
        "outputId": "dfd34c3a-399c-43b8-e3d0-e0a365e70839",
        "colab": {
          "base_uri": "https://localhost:8080/"
        }
      },
      "source": [
        "import splitfolders\n",
        "splitfolders.ratio('/content/gdrive/MyDrive/data_mfcc/data/', output=\"/content/gdrive/MyDrive/data_mcfcc/split_data/\", seed=1, ratio=(.6, .2, .2)) # splitting 60-20-20"
      ],
      "execution_count": 4,
      "outputs": [
        {
          "output_type": "stream",
          "text": [
            "Copying files: 1445 files [10:50,  2.22 files/s]\n"
          ],
          "name": "stderr"
        }
      ]
    },
    {
      "cell_type": "code",
      "metadata": {
        "id": "KheJbjNSb67G",
        "outputId": "642c0be8-09f6-4ce4-ad0a-c30b67f999be",
        "colab": {
          "base_uri": "https://localhost:8080/",
          "height": 149
        }
      },
      "source": [
        "# Loading data from drive\n",
        "\n",
        "import torch\n",
        "import numpy as np\n",
        "\n",
        "import torchvision\n",
        "import torchvision.transforms as transforms\n",
        "from torch.utils.data.sampler import SubsetRandomSampler\n",
        "import matplotlib.pyplot as plt\n",
        "\n",
        "\n",
        "# location on Google Drive\n",
        "master_path = '/content/gdrive/My Drive/data_mcfcc/split_data'\n",
        "\n",
        "# Transform Settings - Do not use RandomResizedCrop\n",
        "transform = transforms.Compose([transforms.Resize((224,224)), \n",
        "                                transforms.ToTensor()])\n",
        "\n",
        "\n",
        "# Load data from Google Drive\n",
        "trainset = torchvision.datasets.ImageFolder(master_path + '/train', transform=transform)\n",
        "valset = torchvision.datasets.ImageFolder(master_path + '/val', transform=transform)\n",
        "testset = torchvision.datasets.ImageFolder(master_path + '/test', transform=transform)\n",
        "\n",
        "# Prepare Dataloader\n",
        "batch_size = 32\n",
        "num_workers = 1\n",
        "train_loader = torch.utils.data.DataLoader(trainset, batch_size=batch_size, \n",
        "                                           num_workers=num_workers, shuffle=True)\n",
        "\n",
        "# Verification Step - obtain one batch of images\n",
        "dataiter = iter(train_loader)\n",
        "images, labels = dataiter.next()\n",
        "images = images.numpy() # convert images to numpy for display\n",
        "\n",
        "classes = ['english', 'hindi', 'mandarin', 'tagalog']\n",
        "\n",
        "# plot the images in the batch, along with the corresponding labels\n",
        "fig = plt.figure(figsize=(25, 4))\n",
        "for idx in np.arange(10):\n",
        "    ax = fig.add_subplot(2, 20/2, idx+1, xticks=[], yticks=[])\n",
        "    plt.imshow(np.transpose(images[idx], (1, 2, 0)))\n",
        "    ax.set_title(classes[labels[idx]])"
      ],
      "execution_count": 31,
      "outputs": [
        {
          "output_type": "display_data",
          "data": {
            "image/png": "[encoded data removed]",
            "text/plain": [
              "<Figure size 1800x288 with 10 Axes>"
            ]
          },
          "metadata": {
            "tags": []
          }
        }
      ]
    },
    {
      "cell_type": "code",
      "metadata": {
        "id": "nm6Nruy9kjxc"
      },
      "source": [
        "def evaluate(net, loader, criterion):\n",
        "    \"\"\" Evaluate the network on the validation set.\n",
        "\n",
        "     Args:\n",
        "         net: PyTorch neural network object\n",
        "         loader: PyTorch data loader for the validation set\n",
        "         criterion: The loss function\n",
        "     Returns:\n",
        "         err: A scalar for the avg classification error over the validation set\n",
        "         loss: A scalar for the average loss function over the validation set\n",
        "     \"\"\"\n",
        "    total_loss = 0.0\n",
        "    total_err = 0.0\n",
        "    total_epoch = 1\n",
        "    j = 0\n",
        "    for i, data in enumerate(loader, 0):\n",
        "        inputs, labels = data\n",
        "        labels = normalize_label(labels)  # Convert labels to 0/1\n",
        "        outputs = net(inputs)\n",
        "        loss = criterion(outputs, labels.float())\n",
        "        corr = (outputs > 0.0).squeeze().long() != labels\n",
        "        total_err += int(corr.sum())\n",
        "        total_loss += loss.item()\n",
        "        total_epoch += len(labels)\n",
        "        j = 1\n",
        "    err = float(total_err) / total_epoch\n",
        "    loss = float(total_loss) / (j + 1)\n",
        "    return err, loss\n",
        "\n",
        "def plot_training_curve(path):\n",
        "    \"\"\" Plots the training curve for a model run, given the csv files\n",
        "    containing the train/validation error/loss.\n",
        "\n",
        "    Args:\n",
        "        path: The base path of the csv files produced during training\n",
        "    \"\"\"\n",
        "    import matplotlib.pyplot as plt\n",
        "    train_err = np.loadtxt(\"{}_train_err.csv\".format(path))\n",
        "    val_err = np.loadtxt(\"{}_val_err.csv\".format(path))\n",
        "    train_loss = np.loadtxt(\"{}_train_loss.csv\".format(path))\n",
        "    val_loss = np.loadtxt(\"{}_val_loss.csv\".format(path))\n",
        "    plt.title(\"Train vs Validation Error\")\n",
        "    n = len(train_err) # number of epochs\n",
        "    plt.plot(range(1,n+1), train_err, label=\"Train\")\n",
        "    plt.plot(range(1,n+1), val_err, label=\"Validation\")\n",
        "    plt.xlabel(\"Epoch\")\n",
        "    plt.ylabel(\"Error\")\n",
        "    plt.legend(loc='best')\n",
        "    plt.show()\n",
        "    plt.title(\"Train vs Validation Loss\")\n",
        "    plt.plot(range(1,n+1), train_loss, label=\"Train\")\n",
        "    plt.plot(range(1,n+1), val_loss, label=\"Validation\")\n",
        "    plt.xlabel(\"Epoch\")\n",
        "    plt.ylabel(\"Loss\")\n",
        "    plt.legend(loc='best')\n",
        "    plt.show()"
      ],
      "execution_count": 59,
      "outputs": []
    },
    {
      "cell_type": "code",
      "metadata": {
        "id": "pRrFPClkqrR6"
      },
      "source": [
        "def get_data_loader(target_classes, batch_size):\n",
        "    \"\"\" Loads images of cats and dogs, splits the data into training, validation\n",
        "    and testing datasets. Returns data loaders for the three preprocessed datasets.\n",
        "\n",
        "    Args:\n",
        "        target_classes: A list of strings denoting the name of the desired\n",
        "                        classes. Should be a subset of the argument 'classes'\n",
        "        batch_size: A int representing the number of samples per batch\n",
        "    \n",
        "    Returns:\n",
        "        train_loader: iterable training dataset organized according to batch size\n",
        "        val_loader: iterable validation dataset organized according to batch size\n",
        "        test_loader: iterable testing dataset organized according to batch size\n",
        "        classes: A list of strings denoting the name of each class\n",
        "    \"\"\"\n",
        "\n",
        "    classes = ('english', 'hindi', 'mandarin', 'tagalog')\n",
        "\n",
        "    # The output of torchvision datasets are PILImage images of range [0, 1].\n",
        "    # We transform them to Tensors of normalized range [-1, 1].\n",
        "    transform = transforms.Compose(\n",
        "        [transforms.ToTensor(),\n",
        "         transforms.Normalize((0.5, 0.5, 0.5), (0.5, 0.5, 0.5))])\n",
        "    # Load CIFAR10 training data\n",
        "    \n",
        "    trainset = torchvision.datasets.ImageFolder(master_path + '/train', transform=transform)\n",
        "    valset = torchvision.datasets.ImageFolder(master_path + '/val', transform=transform)\n",
        "    testset = torchvision.datasets.ImageFolder(master_path + '/test', transform=transform)\n",
        "    # Get the list of indices to sample from\n",
        "    relevant_indices = get_relevant_indices(trainset, classes, target_classes)\n",
        "    \n",
        "    # Split into train and validation\n",
        "    np.random.seed(1000) # Fixed numpy random seed for reproducible shuffling\n",
        "    np.random.shuffle(relevant_indices)\n",
        "    split = int(len(relevant_indices) * 0.8) #split at 80%\n",
        "    \n",
        "    # split into training and validation indices\n",
        "    relevant_train_indices, relevant_val_indices = relevant_indices[:split], relevant_indices[split:]  \n",
        "    train_sampler = SubsetRandomSampler(relevant_train_indices)\n",
        "    train_loader = torch.utils.data.DataLoader(trainset, batch_size=batch_size,\n",
        "                                               num_workers=1, sampler=train_sampler)\n",
        "    val_sampler = SubsetRandomSampler(relevant_val_indices)\n",
        "    val_loader = torch.utils.data.DataLoader(trainset, batch_size=batch_size,\n",
        "                                              num_workers=1, sampler=val_sampler)\n",
        "    #################\n",
        "    # TODO: FIX THIS\n",
        "    testset = torchvision.datasets.ImageFolder(master_path + '/test', transform=transform)\n",
        "    \n",
        "    # Get the list of indices to sample from\n",
        "    relevant_test_indices = get_relevant_indices(testset, classes, target_classes)\n",
        "    test_sampler = SubsetRandomSampler(relevant_test_indices)\n",
        "    test_loader = torch.utils.data.DataLoader(testset, batch_size=batch_size,\n",
        "                                             num_workers=1, sampler=test_sampler)\n",
        "    return train_loader, val_loader, test_loader, classes"
      ],
      "execution_count": 19,
      "outputs": []
    },
    {
      "cell_type": "code",
      "metadata": {
        "id": "E5md_1Bko7SS"
      },
      "source": [
        "class ANN_Net(nn.Module):\n",
        "    def __init__(self):\n",
        "        super(ANN_Net, self).__init__()\n",
        "        self.name = \"net\"\n",
        "        self.conv1 = nn.Conv2d(3, 5, 5)\n",
        "        self.pool = nn.MaxPool2d(2, 2)\n",
        "        self.conv2 = nn.Conv2d(5, 10, 5)\n",
        "        self.fc1 = nn.Linear(10 * 5 * 5, 32)\n",
        "        self.fc2 = nn.Linear(32, 1)\n",
        "\n",
        "    def forward(self, x):\n",
        "        x = self.pool(F.relu(self.conv1(x)))\n",
        "        x = self.pool(F.relu(self.conv2(x)))\n",
        "        x = x.view(-1, 10 * 5 * 5)\n",
        "        x = F.relu(self.fc1(x))\n",
        "        x = self.fc2(x)\n",
        "        x = x.squeeze(1) # Flatten to [batch_size]\n",
        "        return x"
      ],
      "execution_count": 20,
      "outputs": []
    },
    {
      "cell_type": "code",
      "metadata": {
        "id": "r7ObcGSWpnMv"
      },
      "source": [
        "net = ANN_Net()"
      ],
      "execution_count": 21,
      "outputs": []
    },
    {
      "cell_type": "code",
      "metadata": {
        "id": "eJwVwQu5qNFk"
      },
      "source": [
        "def train_net(net, batch_size=64, learning_rate=0.01, num_epochs=10):\n",
        "    ########################################################################\n",
        "    # Train a classifier on accents\n",
        "    target_classes = [\"english\", \"mandarin\", \"hindi\", \"tagalog\"]\n",
        "    ########################################################################\n",
        "    # Fixed PyTorch random seed for reproducible result\n",
        "    torch.manual_seed(1000)\n",
        "    ########################################################################\n",
        "    # Obtain the PyTorch data loader objects to load batches of the datasets\n",
        "    train_loader, val_loader, test_loader, classes = get_data_loader(\n",
        "            target_classes, batch_size)\n",
        "    ########################################################################\n",
        "    # Define the Loss function and optimizer\n",
        "    # The loss function will be Binary Cross Entropy (BCE). In this case we\n",
        "    # will use the BCEWithLogitsLoss which takes unnormalized output from\n",
        "    # the neural network and scalar label.\n",
        "    # Optimizer will be SGD with Momentum.\n",
        "    criterion = nn.BCEWithLogitsLoss()\n",
        "    optimizer = optim.SGD(net.parameters(), lr=learning_rate, momentum=0.9)\n",
        "    ########################################################################\n",
        "    # Set up some numpy arrays to store the training/test loss/erruracy\n",
        "    train_err = np.zeros(num_epochs)\n",
        "    train_loss = np.zeros(num_epochs)\n",
        "    val_err = np.zeros(num_epochs)\n",
        "    val_loss = np.zeros(num_epochs)\n",
        "    ########################################################################\n",
        "    # Train the network\n",
        "    # Loop over the data iterator and sample a new batch of training data\n",
        "    # Get the output from the network, and optimize our loss function.\n",
        "\n",
        "    for epoch in range(num_epochs):  # loop over the dataset multiple times\n",
        "        total_train_loss = 0.0\n",
        "        total_train_err = 0.0\n",
        "        total_epoch = 1\n",
        "        j = 0\n",
        "        for i, data in enumerate(train_loader, 0):\n",
        "            # Get the inputs\n",
        "            inputs, labels = data\n",
        "            labels = normalize_label(labels) # Convert labels to 0/1\n",
        "            # Zero the parameter gradients\n",
        "            optimizer.zero_grad()\n",
        "            # Forward pass, backward pass, and optimize\n",
        "            outputs = net(inputs)\n",
        "            loss = criterion(outputs, labels.float())\n",
        "            loss.backward()\n",
        "            optimizer.step()\n",
        "            # Calculate the statistics\n",
        "            corr = (outputs > 0.0).squeeze().long() != labels\n",
        "            total_train_err += int(corr.sum())\n",
        "            total_train_loss += loss.item()\n",
        "            total_epoch += len(labels)\n",
        "            j = i\n",
        "        train_err[epoch] = float(total_train_err) / total_epoch\n",
        "        train_loss[epoch] = float(total_train_loss) / (j+1)\n",
        "        val_err[epoch], val_loss[epoch] = evaluate(net, val_loader, criterion)\n",
        "            \n",
        "        print((\"Epoch {}: Train err: {}, Train loss: {} |\"+\n",
        "               \"Validation err: {}, Validation loss: {}\").format(\n",
        "                   epoch + 1,\n",
        "                   train_err[epoch],\n",
        "                   train_loss[epoch],\n",
        "                   val_err[epoch],\n",
        "                   val_loss[epoch]))\n",
        "        # Save the current model (checkpoint) to a file\n",
        "        model_path = get_model_name(net.name, batch_size, learning_rate, epoch)\n",
        "        torch.save(net.state_dict(), model_path)\n",
        "    print('Finished Training')\n",
        "    # Write the train/test loss/err into CSV file for plotting later\n",
        "    epochs = np.arange(1, num_epochs + 1)\n",
        "    np.savetxt(\"{}_train_err.csv\".format(model_path), train_err)\n",
        "    np.savetxt(\"{}_train_loss.csv\".format(model_path), train_loss)\n",
        "    np.savetxt(\"{}_val_err.csv\".format(model_path), val_err)\n",
        "    np.savetxt(\"{}_val_loss.csv\".format(model_path), val_loss)"
      ],
      "execution_count": 55,
      "outputs": []
    },
    {
      "cell_type": "code",
      "metadata": {
        "id": "wS1yrKcyLo-v"
      },
      "source": [
        "def get_model_name(name, batch_size, learning_rate, epoch):\n",
        "    \"\"\" Generate a name for the model consisting of all the hyperparameter values\n",
        "\n",
        "    Args:\n",
        "        config: Configuration object containing the hyperparameters\n",
        "    Returns:\n",
        "        path: A string with the hyperparameter name and value concatenated\n",
        "    \"\"\"\n",
        "    path = \"model_{0}_bs{1}_lr{2}_epoch{3}\".format(name,\n",
        "                                                   batch_size,\n",
        "                                                   learning_rate,\n",
        "                                                   epoch)\n",
        "    return path"
      ],
      "execution_count": 49,
      "outputs": []
    },
    {
      "cell_type": "code",
      "metadata": {
        "id": "_z2sbi-l-b7l"
      },
      "source": [
        "def get_relevant_indices(dataset, classes, target_classes):\n",
        "    \"\"\" Return the indices for datapoints in the dataset that belongs to the\n",
        "    desired target classes, a subset of all possible classes.\n",
        "\n",
        "    Args:\n",
        "        dataset: Dataset object\n",
        "        classes: A list of strings denoting the name of each class\n",
        "        target_classes: A list of strings denoting the name of desired classes\n",
        "                        Should be a subset of the 'classes'\n",
        "    Returns:\n",
        "        indices: list of indices that have labels corresponding to one of the\n",
        "                 target classes\n",
        "    \"\"\"\n",
        "    indices = []\n",
        "\n",
        "    dataiter = iter(train_loader)\n",
        "    images, labels = dataiter.next()\n",
        "    images = images.numpy() \n",
        "    classes = ['english', 'hindi', 'mandarin', 'tagalog']\n",
        "\n",
        "    for i in np.arange(len(dataset)):\n",
        "        # Check if the label is in the target classes\n",
        "        #label_index = dataset[i][1]\n",
        "        label_class = dataset[i][-1]\n",
        "        if label_class in target_classes:\n",
        "            indices.append(i)\n",
        "    return indices"
      ],
      "execution_count": 36,
      "outputs": []
    },
    {
      "cell_type": "code",
      "metadata": {
        "id": "YGOXqeL3DwY3"
      },
      "source": [
        "for i in range(len(trainset)):\n",
        "        # Check if the label is in the target classes\n",
        "        print(trainset[i][-1])"
      ],
      "execution_count": null,
      "outputs": []
    },
    {
      "cell_type": "code",
      "metadata": {
        "id": "oWPmeqae-EfY",
        "outputId": "281a8d68-c4e5-4cba-89aa-92363839d859",
        "colab": {
          "base_uri": "https://localhost:8080/"
        }
      },
      "source": [
        "i = 0\n",
        "for param in net.parameters():\n",
        "    print(param.shape)\n",
        "    i = i + param.nelement()\n",
        "print(\"\")\n",
        "\n",
        "print(\"net has\", i, \" parameters\")"
      ],
      "execution_count": 34,
      "outputs": [
        {
          "output_type": "stream",
          "text": [
            "torch.Size([5, 3, 5, 5])\n",
            "torch.Size([5])\n",
            "torch.Size([10, 5, 5, 5])\n",
            "torch.Size([10])\n",
            "torch.Size([32, 250])\n",
            "torch.Size([32])\n",
            "torch.Size([1, 32])\n",
            "torch.Size([1])\n",
            "\n",
            "net has 9705  parameters\n"
          ],
          "name": "stdout"
        }
      ]
    },
    {
      "cell_type": "code",
      "metadata": {
        "id": "nlMeJxSk0hDT",
        "outputId": "7eace9ed-e700-4570-d24b-ff0736474be1",
        "colab": {
          "base_uri": "https://localhost:8080/"
        }
      },
      "source": [
        "train_net(net, batch_size = 64, learning_rate = 0.01, num_epochs = 10)"
      ],
      "execution_count": 60,
      "outputs": [
        {
          "output_type": "stream",
          "text": [
            "Epoch 1: Train err: 0.0, Train loss: 0.0 |Validation err: 0.0, Validation loss: 0.0\n",
            "Epoch 2: Train err: 0.0, Train loss: 0.0 |Validation err: 0.0, Validation loss: 0.0\n",
            "Epoch 3: Train err: 0.0, Train loss: 0.0 |Validation err: 0.0, Validation loss: 0.0\n",
            "Epoch 4: Train err: 0.0, Train loss: 0.0 |Validation err: 0.0, Validation loss: 0.0\n",
            "Epoch 5: Train err: 0.0, Train loss: 0.0 |Validation err: 0.0, Validation loss: 0.0\n",
            "Epoch 6: Train err: 0.0, Train loss: 0.0 |Validation err: 0.0, Validation loss: 0.0\n",
            "Epoch 7: Train err: 0.0, Train loss: 0.0 |Validation err: 0.0, Validation loss: 0.0\n",
            "Epoch 8: Train err: 0.0, Train loss: 0.0 |Validation err: 0.0, Validation loss: 0.0\n",
            "Epoch 9: Train err: 0.0, Train loss: 0.0 |Validation err: 0.0, Validation loss: 0.0\n",
            "Epoch 10: Train err: 0.0, Train loss: 0.0 |Validation err: 0.0, Validation loss: 0.0\n",
            "Finished Training\n"
          ],
          "name": "stdout"
        }
      ]
    },
    {
      "cell_type": "code",
      "metadata": {
        "id": "Q4ocwm3KZ6jK",
        "outputId": "3b362cc8-d393-4b71-e81b-58fb09921582",
        "colab": {
          "base_uri": "https://localhost:8080/",
          "height": 83,
          "referenced_widgets": [
            "adeb70fe8af54bfb9360cf442cc2204c",
            "ae0cd0dd85a14653bde003f1adb87701",
            "1f5c2e76c8f24b75a22e22ebe94df832",
            "b905268925864cb9896b5fa53148d852",
            "366c14cf2d814a2880fc86c41c336ec3",
            "1f3a6b310ebd402693540e1e19daa1e7",
            "4526bc71f1db446a841c30db11d19342",
            "9f9c0bed448b411286f746373fd4c5fe"
          ]
        }
      },
      "source": [
        "import torchvision.models\n",
        "alexnet = torchvision.models.alexnet(pretrained=True)"
      ],
      "execution_count": 61,
      "outputs": [
        {
          "output_type": "stream",
          "text": [
            "Downloading: \"https://download.pytorch.org/models/alexnet-owt-4df8aa71.pth\" to /root/.cache/torch/hub/checkpoints/alexnet-owt-4df8aa71.pth\n"
          ],
          "name": "stderr"
        },
        {
          "output_type": "display_data",
          "data": {
            "application/vnd.jupyter.widget-view+json": {
              "model_id": "adeb70fe8af54bfb9360cf442cc2204c",
              "version_minor": 0,
              "version_major": 2
            },
            "text/plain": [
              "HBox(children=(FloatProgress(value=0.0, max=244418560.0), HTML(value='')))"
            ]
          },
          "metadata": {
            "tags": []
          }
        },
        {
          "output_type": "stream",
          "text": [
            "\n"
          ],
          "name": "stdout"
        }
      ]
    },
    {
      "cell_type": "code",
      "metadata": {
        "id": "czB349UgarA5",
        "outputId": "a2165377-88dc-4c6a-d415-60e715d9ef99",
        "colab": {
          "base_uri": "https://localhost:8080/",
          "height": 231
        }
      },
      "source": [
        "val_loader = torch.utils.data.DataLoader(valset_overfit, batch_size=9, \n",
        "                                           num_workers=num_workers, shuffle=False)\n",
        "\n",
        "trainset_overfit = torchvision.datasets.ImageFolder('/content/gdrive/My Drive/APS360/Lab 3/Lab 3 Data/Split Data 2c/train', transform=transform)\n",
        "valset_overfit = torchvision.datasets.ImageFolder('/content/gdrive/My Drive/APS360/Lab 3/Lab 3 Data/Split Data 2c/val', transform=transform)\n",
        "train_loader = torch.utils.data.DataLoader(trainset_overfit, batch_size=18, \n",
        "                                           num_workers=num_workers, shuffle=False)\n",
        "\n",
        "train_dataiter = iter(train_loader)\n",
        "train_img, train_label = train_dataiter.next()\n",
        "train_features = alexnet.features(train_img)\n",
        "\n",
        "val_dataiter = iter(val_loader)\n",
        "val_img, val_label = val_dataiter.next()\n",
        "val_features = alexnet.features(val_img)\n",
        "\n",
        "test_dataiter = iter(test_loader)\n",
        "test_img, test_label = test_dataiter.next()\n",
        "test_features = alexnet.features(test_img)\n",
        "\n",
        "print(train_features.shape)\n",
        "print(val_features.shape)\n",
        "print(test_features.shape)\n",
        "\n",
        "train_path1 = 'train_path'\n",
        "val_path1 = 'val_path'\n",
        "test_path1 = 'test_path'"
      ],
      "execution_count": 62,
      "outputs": [
        {
          "output_type": "error",
          "ename": "NameError",
          "evalue": "ignored",
          "traceback": [
            "\u001b[0;31m---------------------------------------------------------------------------\u001b[0m",
            "\u001b[0;31mNameError\u001b[0m                                 Traceback (most recent call last)",
            "\u001b[0;32m<ipython-input-62-957e3733cd9c>\u001b[0m in \u001b[0;36m<module>\u001b[0;34m()\u001b[0m\n\u001b[1;32m      3\u001b[0m \u001b[0mtrain_features\u001b[0m \u001b[0;34m=\u001b[0m \u001b[0malexnet\u001b[0m\u001b[0;34m.\u001b[0m\u001b[0mfeatures\u001b[0m\u001b[0;34m(\u001b[0m\u001b[0mtrain_img\u001b[0m\u001b[0;34m)\u001b[0m\u001b[0;34m\u001b[0m\u001b[0;34m\u001b[0m\u001b[0m\n\u001b[1;32m      4\u001b[0m \u001b[0;34m\u001b[0m\u001b[0m\n\u001b[0;32m----> 5\u001b[0;31m \u001b[0mval_dataiter\u001b[0m \u001b[0;34m=\u001b[0m \u001b[0miter\u001b[0m\u001b[0;34m(\u001b[0m\u001b[0mval_loader\u001b[0m\u001b[0;34m)\u001b[0m\u001b[0;34m\u001b[0m\u001b[0;34m\u001b[0m\u001b[0m\n\u001b[0m\u001b[1;32m      6\u001b[0m \u001b[0mval_img\u001b[0m\u001b[0;34m,\u001b[0m \u001b[0mval_label\u001b[0m \u001b[0;34m=\u001b[0m \u001b[0mval_dataiter\u001b[0m\u001b[0;34m.\u001b[0m\u001b[0mnext\u001b[0m\u001b[0;34m(\u001b[0m\u001b[0;34m)\u001b[0m\u001b[0;34m\u001b[0m\u001b[0;34m\u001b[0m\u001b[0m\n\u001b[1;32m      7\u001b[0m \u001b[0mval_features\u001b[0m \u001b[0;34m=\u001b[0m \u001b[0malexnet\u001b[0m\u001b[0;34m.\u001b[0m\u001b[0mfeatures\u001b[0m\u001b[0;34m(\u001b[0m\u001b[0mval_img\u001b[0m\u001b[0;34m)\u001b[0m\u001b[0;34m\u001b[0m\u001b[0;34m\u001b[0m\u001b[0m\n",
            "\u001b[0;31mNameError\u001b[0m: name 'val_loader' is not defined"
          ]
        }
      ]
    },
    {
      "cell_type": "code",
      "metadata": {
        "id": "mg43xUdCav44",
        "outputId": "b332fdee-4095-43d0-9847-4b299674c7ef",
        "colab": {
          "base_uri": "https://localhost:8080/",
          "height": 163
        }
      },
      "source": [
        "test_loader.dataset"
      ],
      "execution_count": 64,
      "outputs": [
        {
          "output_type": "error",
          "ename": "NameError",
          "evalue": "ignored",
          "traceback": [
            "\u001b[0;31m---------------------------------------------------------------------------\u001b[0m",
            "\u001b[0;31mNameError\u001b[0m                                 Traceback (most recent call last)",
            "\u001b[0;32m<ipython-input-64-fdda3b73fd8d>\u001b[0m in \u001b[0;36m<module>\u001b[0;34m()\u001b[0m\n\u001b[0;32m----> 1\u001b[0;31m \u001b[0mtest_loader\u001b[0m\u001b[0;34m.\u001b[0m\u001b[0mdataset\u001b[0m\u001b[0;34m\u001b[0m\u001b[0;34m\u001b[0m\u001b[0m\n\u001b[0m",
            "\u001b[0;31mNameError\u001b[0m: name 'test_loader' is not defined"
          ]
        }
      ]
    },
    {
      "cell_type": "code",
      "metadata": {
        "id": "z3G_JdJm_scZ"
      },
      "source": [
        "import os\n",
        "import torchvision.models\n",
        "alexnet = torchvision.models.alexnet(pretrained=True)\n",
        "\n",
        "batch_size = 1\n",
        "num_workers = 1\n",
        "train_loader1 = torch.utils.data.DataLoader(trainset, batch_size=batch_size, \n",
        "                                           num_workers=num_workers, shuffle=True)\n",
        "val_loader1 = torch.utils.data.DataLoader(valset, batch_size=batch_size, \n",
        "                                           num_workers=num_workers, shuffle=True)\n",
        "test_loader1 = torch.utils.data.DataLoader(testset, batch_size=batch_size, \n",
        "                                           num_workers=num_workers, shuffle=True)\n",
        "\n",
        "classes = ['english', 'hindi', 'mandarin', 'tagalog' ]\n",
        "\n",
        "# save features to folder as tensors\n",
        "a = 0\n",
        "for img, label in train_loader1:\n",
        "  features = alexnet.features(img)\n",
        "  features_tensor = torch.from_numpy(features.detach().numpy())\n",
        "  folder_name = train_path1 + '/' + str(classes[label])\n",
        "  if not os.path.isdir(folder_name):\n",
        "    os.mkdir(folder_name)\n",
        "  torch.save(features_tensor.squeeze(0), folder_name + '/' + str(a) + '.tensor')\n",
        "  a += 1\n",
        "\n",
        "b = 0\n",
        "for img, label in val_loader1:\n",
        "  features = alexnet.features(img)\n",
        "  features_tensor = torch.from_numpy(features.detach().numpy())\n",
        "  folder_name = val_path1 + '/' + str(classes[label])\n",
        "  if not os.path.isdir(folder_name):\n",
        "    os.mkdir(folder_name)\n",
        "  torch.save(features_tensor.squeeze(0), folder_name + '/' + str(b) + '.tensor')\n",
        "  b += 1\n",
        "\n",
        "c = 0\n",
        "for img, label in test_loader1:\n",
        "  features = alexnet.features(img)\n",
        "  features_tensor = torch.from_numpy(features.detach().numpy())\n",
        "  folder_name = test_path1 + '/' + str(classes[label])\n",
        "  if not os.path.isdir(folder_name):\n",
        "    os.mkdir(folder_name)\n",
        "  torch.save(features_tensor.squeeze(0), folder_name + '/' + str(c) + '.tensor')\n",
        "  c += 1"
      ],
      "execution_count": null,
      "outputs": []
    },
    {
      "cell_type": "code",
      "metadata": {
        "id": "V71jLEByAH1Z"
      },
      "source": [
        "feature_train_set = torchvision.datasets.DatasetFolder(train_path1, loader=torch.load, extensions=('.tensor'))\n",
        "feature_val_set = torchvision.datasets.DatasetFolder(val_path1, loader=torch.load, extensions=('.tensor'))\n",
        "feature_test_set = torchvision.datasets.DatasetFolder(test_path1, loader=torch.load, extensions=('.tensor'))\n",
        "\n",
        "batch_size = 32\n",
        "num_workers = 1\n",
        "feature_train_loader = torch.utils.data.DataLoader(feature_train_set, batch_size=batch_size, \n",
        "                                           num_workers=num_workers, shuffle=True)\n",
        "feature_val_loader = torch.utils.data.DataLoader(feature_val_set, batch_size=batch_size, \n",
        "                                           num_workers=num_workers, shuffle=True)\n",
        "feature_test_loader = torch.utils.data.DataLoader(feature_test_set, batch_size=batch_size, \n",
        "                                           num_workers=num_workers, shuffle=True)\n",
        "\n",
        "# Verification Step - obtain one batch of features\n",
        "dataiter = iter(feature_train_loader)\n",
        "feature, label = dataiter.next()\n",
        "print(feature.shape)\n",
        "print(label.shape)"
      ],
      "execution_count": null,
      "outputs": []
    },
    {
      "cell_type": "code",
      "metadata": {
        "id": "mRJrp_3pAVHf"
      },
      "source": [
        "nnet = ANN_Net()\n",
        "use_cuda = True\n",
        "if use_cuda and torch.cuda.is_available():\n",
        "  nnet = nnet.cuda()\n",
        "  print('Training on GPU ...')\n",
        "t_acc, v_acc = train(nnet7, feature_train_loader, feature_val_loader, batch_size=20, num_epochs=10, learn_rate = 0.001)"
      ],
      "execution_count": null,
      "outputs": []
    }
  ]
}