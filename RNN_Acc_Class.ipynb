{
  "nbformat": 4,
  "nbformat_minor": 0,
  "metadata": {
    "colab": {
      "name": "RNN_Acc_Class",
      "provenance": [],
      "authorship_tag": "ABX9TyOdjiBJZle11YmLUUcZLpQW",
      "include_colab_link": true
    },
    "kernelspec": {
      "name": "python3",
      "display_name": "Python 3"
    },
    "accelerator": "GPU"
  },
  "cells": [
    {
      "cell_type": "markdown",
      "metadata": {
        "id": "view-in-github",
        "colab_type": "text"
      },
      "source": [
        "<a href=\"https://colab.research.google.com/github/PebbleBuilds/acc-class/blob/roccos-fun-branch/RNN_Acc_Class.ipynb\" target=\"_parent\"><img src=\"https://colab.research.google.com/assets/colab-badge.svg\" alt=\"Open In Colab\"/></a>"
      ]
    },
    {
      "cell_type": "markdown",
      "metadata": {
        "id": "1XTY1stVzi_e"
      },
      "source": [
        "## Config"
      ]
    },
    {
      "cell_type": "code",
      "metadata": {
        "id": "-5LihfE-zkzG"
      },
      "source": [
        "train_dataset_path = \"/content/drive/My Drive/APS360 Group Project/data_testing/pure_augmentation\"\n",
        "classes = [\"english\",\"mandarin\",\"india\"]\n",
        "\n",
        "raw_dataset_path = \"/content/drive/My Drive/APS360 Group Project/data_testing/pure_augmentation/raw_10s_3classes_npy\"\n",
        "train_set_folders = [\"ps_1_dur_10_npy\",\n",
        "                     \"ps_1_dur_10_npy\",\n",
        "                     \"gn_0.05_dur_10_npy\"                    \n",
        "]"
      ],
      "execution_count": 16,
      "outputs": []
    },
    {
      "cell_type": "markdown",
      "metadata": {
        "id": "vU-EC3ycVz7B"
      },
      "source": [
        "## Imports and Colab Mount"
      ]
    },
    {
      "cell_type": "code",
      "metadata": {
        "id": "4-UZbCAxL4vy"
      },
      "source": [
        "import numpy as np\n",
        "import time\n",
        "import torch\n",
        "import torch.nn as nn\n",
        "import torch.nn.functional as F\n",
        "import torch.optim as optim\n",
        "import torchvision\n",
        "from torch.utils.data.sampler import SubsetRandomSampler\n",
        "from torch.utils.data import ConcatDataset\n",
        "import torchvision.transforms as transforms\n",
        "import matplotlib.pyplot as plt \n",
        "import librosa\n",
        "import librosa.display\n",
        "import os\n",
        "\n",
        "\n"
      ],
      "execution_count": 18,
      "outputs": []
    },
    {
      "cell_type": "code",
      "metadata": {
        "id": "22eaeTRa0-2r"
      },
      "source": [
        "from google.colab import drive\n",
        "drive.mount('/content/drive/')"
      ],
      "execution_count": null,
      "outputs": []
    },
    {
      "cell_type": "markdown",
      "metadata": {
        "id": "9cxAIOxyV3ZX"
      },
      "source": [
        "## Utility Function Definitions"
      ]
    },
    {
      "cell_type": "markdown",
      "metadata": {
        "id": "wU2TJS5pzKxl"
      },
      "source": [
        "train_data_components = []\n",
        "  for folder in train_set_folders:\n",
        "    folder_path = os.path.join(train_dataset_path, folder, 'train')\n",
        "    train_data_components.append(torchvision.datasets.ImageFolder(root=os.path.join(folder_path), transform=data_transform))\n",
        "  train_data = ConcatDataset(train_data_components)"
      ]
    },
    {
      "cell_type": "code",
      "metadata": {
        "id": "1VSU0Km9Mgpz"
      },
      "source": [
        "# can also load in data as numpy arrays directly \n",
        "def numpy_loader(input):\n",
        "    item = np.load(input)\n",
        "    return item\n",
        "\n",
        "def generate_data_numpy():\n",
        "  data_transform = transforms.Compose([transforms.ToTensor()])\n",
        "  raw_train_data = torchvision.datasets.DatasetFolder(root=raw_dataset_path, loader=numpy_loader,extensions='.npy',transform=data_transform)\n",
        "  val_data = torchvision.datasets.DatasetFolder(root=raw_dataset_path, loader=numpy_loader,extensions='.npy',transform=data_transform)\n",
        "\n",
        "  train_data_components = [raw_train_data]\n",
        "  for folder in train_set_folders:\n",
        "    folder_path = os.path.join(train_dataset_path, folder, 'train')\n",
        "    train_data_components.append(torchvision.datasets.DatasetFolder(root=folder_path, loader=numpy_loader,extensions='.npy',transform=data_transform))\n",
        "  train_data = ConcatDataset(train_data_components)\n",
        "  return train_data, val_data, []\n",
        "\n",
        "def visualize_numpy_data(dataset):\n",
        "    batch = 27\n",
        "    num_workers = 1\n",
        "\n",
        "    data_loader = torch.utils.data.DataLoader(dataset, batch_size=batch, num_workers=num_workers, shuffle=True)\n",
        "\n",
        "    # Visualize some sample data\n",
        "    classes = ['english', 'mandarin', 'india']\n",
        "\n",
        "    # obtain one batch of training images\n",
        "    dataiter = iter(data_loader)\n",
        "    array, labels = dataiter.next()\n",
        "    array = array.numpy() # convert images to numpy for display\n",
        "    plt.figure()\n",
        "    librosa.display.specshow(array[0][0])\n",
        "    plt.colorbar()\n",
        "\n",
        "    print(\"Array shape is\", array.shape)\n",
        "    return array.shape\n",
        "    \n",
        "# train utils \n",
        "\n",
        "def get_accuracy_rnn(model, data_loader):\n",
        "    correct = 0\n",
        "    total = 0\n",
        "    for array, labels in data_loader:\n",
        "        if torch.cuda.is_available():\n",
        "          array = array.cuda()\n",
        "          labels = labels.cuda()\n",
        "        input_array = array.squeeze().float().cuda().transpose(1,2)\n",
        "        out = model(input_array) \n",
        "        pred = out.max(1, keepdim=True)[1]\n",
        "        correct += pred.eq(labels.view_as(pred)).sum().item()\n",
        "        total += input_array.shape[0]\n",
        "    return correct / total\n",
        "\n",
        "def get_model_name(name, batch_size, learning_rate, epoch):\n",
        "    path = \"model_{0}_bs{1}_lr{2}_epoch{3}\".format(name,\n",
        "                                                   batch_size,\n",
        "                                                   learning_rate,\n",
        "                                                   epoch)\n",
        "    return path\n",
        "\n",
        "def plot_graphs(iters, train_loss, val_loss, train_acc, val_acc):\n",
        "    plt.title(\"Training Curve\")\n",
        "    plt.plot(iters, train_loss, label=\"Train\")\n",
        "    #plt.plot (iters, val_loss, label = \"Validation\")\n",
        "    plt.xlabel(\"Iterations\")\n",
        "    plt.ylabel(\"Loss\")\n",
        "    plt.show()\n",
        "    plt.title(\"Training Curve\")\n",
        "    plt.plot(iters, train_acc, label=\"Train\")\n",
        "    plt.plot(iters, val_acc, label=\"Validation\")\n",
        "    plt.xlabel(\"Iterations\")\n",
        "    plt.ylabel(\"Training Accuracy\")\n",
        "    plt.legend(loc='best')\n",
        "    plt.show()"
      ],
      "execution_count": 11,
      "outputs": []
    },
    {
      "cell_type": "markdown",
      "metadata": {
        "id": "YsPcmLfiV72u"
      },
      "source": [
        "## Base Arch"
      ]
    },
    {
      "cell_type": "code",
      "metadata": {
        "id": "Qi5SIyHkMEno"
      },
      "source": [
        "class AccClassRNN(nn.Module):\n",
        "  def __init__(self, input_size, hidden_size, num_classes, batch_size, name):\n",
        "    super(AccClassRNN, self).__init__()\n",
        "    self.ident = torch.eye(input_size)\n",
        "    self.input_size = input_size\n",
        "    self.hidden_size = hidden_size\n",
        "    self.num_classes = num_classes\n",
        "    self.rnn = nn.RNN(input_size, hidden_size, num_classes, batch_first=True)\n",
        "    self.fc = nn.Linear(hidden_size, num_classes)\n",
        "    self.batch_size = batch_size\n",
        "    self.name = \"AccClassRNN_\" + name\n",
        "\n",
        "  def forward(self, x):\n",
        "    # Look up the embedding\n",
        "    #print(x)\n",
        "    #print(x.shape)\n",
        "    #print(x.transpose(1,2).shape)\n",
        "    #x = np.multiply(self.ident, x)\n",
        "    # Set an initial hidden state\n",
        "    h0 = torch.zeros(self.num_classes, self.batch_size, self.hidden_size).cuda()\n",
        "    # Forward propagate the RNN\n",
        "    out, _ = self.rnn(x, h0)\n",
        "    # Pass the output of the last time step to the classifier\n",
        "    output = self.fc(torch.max(out, dim=1)[0])\n",
        "    return output"
      ],
      "execution_count": 12,
      "outputs": []
    },
    {
      "cell_type": "markdown",
      "metadata": {
        "id": "ZVpWBoHbWCfR"
      },
      "source": [
        "## Data Gen"
      ]
    },
    {
      "cell_type": "code",
      "metadata": {
        "colab": {
          "base_uri": "https://localhost:8080/",
          "height": 286
        },
        "id": "jZHnesmCPuoW",
        "outputId": "44fcfc97-711d-4db6-911d-82a6e8949c71"
      },
      "source": [
        "train_data, val_data, []= generate_data_numpy()\n",
        "(batch_size, dummy, mfcc_bands, length) = visualize_numpy_data(train_data)\n",
        "print(mfcc_bands)"
      ],
      "execution_count": 19,
      "outputs": [
        {
          "output_type": "stream",
          "text": [
            "Array shape is (27, 1, 13, 431)\n",
            "13\n"
          ],
          "name": "stdout"
        },
        {
          "output_type": "display_data",
          "data": {
            "image/png": "[encoded data removed]",
            "text/plain": [
              "<Figure size 432x288 with 2 Axes>"
            ]
          },
          "metadata": {
            "tags": [],
            "needs_background": "light"
          }
        }
      ]
    },
    {
      "cell_type": "markdown",
      "metadata": {
        "id": "2gjvmRFTV9Ip"
      },
      "source": [
        "## Train Func"
      ]
    },
    {
      "cell_type": "code",
      "metadata": {
        "id": "COdT2LLkMJA4"
      },
      "source": [
        "def train_net(net, batch_size=8, num_workers = 1, learning_rate=0.005, num_epochs=30):\n",
        "    torch.manual_seed(5)\n",
        "    \n",
        "    # Obtain the PyTorch data loader objects to load batches of the datasets\n",
        "    train_loader = torch.utils.data.DataLoader(train_data, batch_size=batch_size, num_workers=num_workers, shuffle=True, drop_last=True)\n",
        "    val_loader = torch.utils.data.DataLoader(val_data, batch_size=batch_size, num_workers=num_workers, shuffle=True, drop_last=True)\n",
        "\n",
        "    # The loss function will be Cross Entropy and Optimizer will be Adam.\n",
        "    criterion = nn.CrossEntropyLoss()\n",
        "    optimizer = optim.Adam(net.parameters(), lr=learning_rate)\n",
        "\n",
        "    iters, losses, train_acc, val_acc = [], [], [], []\n",
        "\n",
        "    # training\n",
        "    n = 0 # the number of iterations\n",
        "    start_time=time.time()\n",
        "    for epoch in range(num_epochs):\n",
        "        mini_b=0\n",
        "        mini_batch_correct = 0\n",
        "        mini_batch_total = 0\n",
        "        epoch_correct = 0\n",
        "        epoch_total = 0\n",
        "        for imgs, labels in train_loader:\n",
        "            # Get the inputs\n",
        "            if torch.cuda.is_available():\n",
        "              array = imgs.cuda()\n",
        "              labels = labels.cuda()\n",
        "              net = net.cuda()\n",
        "\n",
        "            # Forward pass, backward pass, and optimize\n",
        "            input_array = array.squeeze().float().cuda().transpose(1,2)\n",
        "            # print(input_array.shape)\n",
        "            out = net(input_array)             # forward pass\n",
        "            loss = criterion(out, labels) # compute the total loss\n",
        "            loss.backward()               # backward pass (compute parameter updates)\n",
        "            optimizer.step()              # make the updates for each parameter\n",
        "            optimizer.zero_grad()         # a clean up step for PyTorch\n",
        "\n",
        "            # Mini_batch Accuracy\n",
        "            pred = out.max(1, keepdim=True)[1]\n",
        "            mini_batch_correct = pred.eq(labels.view_as(pred)).sum().item()\n",
        "            mini_batch_total = input_array.shape[0]\n",
        "            mini_batch_acc = mini_batch_correct / mini_batch_total\n",
        "            train_acc.append(mini_batch_acc)\n",
        "\n",
        "            # Saving epoch accuracy\n",
        "            epoch_correct += mini_batch_correct \n",
        "            epoch_total += mini_batch_total \n",
        "\n",
        "            # save the current training information\n",
        "            iters.append(n)\n",
        "            losses.append(float(loss)/batch_size)             # compute *average* loss\n",
        "            val_acc.append(get_accuracy_rnn(net, val_loader))  # compute validation accuracy\n",
        "            n += 1\n",
        "            mini_b += 1\n",
        "\n",
        "        print(\"Epoch: \",epoch,\"Train Accuracy: \",epoch_correct/epoch_total,'Val Accuracy: ', val_acc[-1],'Progress: % 6.2f ' % ((epoch * len(train_loader) + mini_b) / (num_epochs * len(train_loader))*100),'%', \"Time Elapsed: % 6.2f s \" % (time.time()-start_time))\n",
        "        print (\"Epoch %d Finished. \" % epoch ,\"Time per Epoch: % 6.2f s \"% ((time.time()-start_time) / (epoch +1)))\n",
        "        if (epoch>0 and (epoch+1)%25==0):\n",
        "          model_path = get_model_name(net.name, batch_size, learning_rate, epoch + 1)\n",
        "          torch.save(net.state_dict(), model_path)\n",
        "          plot_graphs(iters, losses, [], train_acc, val_acc)\n",
        "    \n",
        "    plot_graphs(iters, losses, [], train_acc, val_acc)\n",
        "    print('Finished Training')\n",
        "    end_time = time.time()\n",
        "    elapsed_time = end_time - start_time\n",
        "    print (\"Total time:  % 6.2f s  Time per Epoch: % 6.2f s \" % ( elapsed_time, (elapsed_time / num_epochs) ))"
      ],
      "execution_count": 20,
      "outputs": []
    },
    {
      "cell_type": "markdown",
      "metadata": {
        "id": "5D9luc4YWNvJ"
      },
      "source": [
        "## Experiments"
      ]
    },
    {
      "cell_type": "markdown",
      "metadata": {
        "id": "mbAwmCRUWPlF"
      },
      "source": [
        "### Exp 1: Base"
      ]
    },
    {
      "cell_type": "code",
      "metadata": {
        "colab": {
          "base_uri": "https://localhost:8080/"
        },
        "id": "J1g3oIJXfUW_",
        "outputId": "b254c4fc-a442-4f48-dc4d-dcdae95be4d6"
      },
      "source": [
        "if torch.cuda.is_available():\n",
        "  print(\"Using CUDA\")\n",
        "num_epochs = 50\n",
        "learning_rate = 0.001\n",
        "hidden_size = 20\n",
        "num_classes = 3\n",
        "name = \"base_RNN_ps1and2_gn0.05\"\n",
        "acc_net = AccClassRNN(mfcc_bands, hidden_size, num_classes , batch_size, name)\n",
        "train_net(acc_net, batch_size = 27, learning_rate = 0.001, num_epochs = 30)\n",
        "#train_rnn_network(acc_net, train_data, val_data, batch_size = 27, learning_rate = learning_rate, num_epochs = num_epochs)\n",
        "\n",
        "#lstm = LSTM(mfcc_bands, hidden_size, num_classes)\n",
        "#train_net(lstm, batch_size = 27, learning_rate = 0.001, num_epochs = 30)"
      ],
      "execution_count": null,
      "outputs": [
        {
          "output_type": "stream",
          "text": [
            "Using CUDA\n",
            "Epoch:  0 Train Accuracy:  0.44165671047391475 Val Accuracy:  0.7423510466988728 Progress:   3.33  % Time Elapsed:  103.88 s \n",
            "Epoch 0 Finished.  Time per Epoch:  103.88 s \n",
            "Epoch:  1 Train Accuracy:  0.47072879330943845 Val Accuracy:  0.6988727858293076 Progress:   6.67  % Time Elapsed:  207.62 s \n",
            "Epoch 1 Finished.  Time per Epoch:  103.81 s \n",
            "Epoch:  2 Train Accuracy:  0.5185185185185185 Val Accuracy:  0.4138486312399356 Progress:  10.00  % Time Elapsed:  310.20 s \n",
            "Epoch 2 Finished.  Time per Epoch:  103.40 s \n"
          ],
          "name": "stdout"
        }
      ]
    }
  ]
}