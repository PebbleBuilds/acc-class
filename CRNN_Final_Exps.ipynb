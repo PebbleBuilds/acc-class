{
  "nbformat": 4,
  "nbformat_minor": 0,
  "metadata": {
    "colab": {
      "name": "CRNN_Final_Exps",
      "provenance": [],
      "collapsed_sections": [
        "mbAwmCRUWPlF",
        "nMNjAuq5B3Nd",
        "u-Fg5y_aFO3Y",
        "LUsjhHmPW427",
        "Q0BQQnmpEIih",
        "uQSdMoUqBHz4",
        "ls2E1mu7MzG4",
        "125qD04_N__9",
        "ix0M40xVD79v"
      ],
      "include_colab_link": true
    },
    "kernelspec": {
      "name": "python3",
      "display_name": "Python 3"
    },
    "accelerator": "GPU"
  },
  "cells": [
    {
      "cell_type": "markdown",
      "metadata": {
        "id": "view-in-github",
        "colab_type": "text"
      },
      "source": [
        "<a href=\"https://colab.research.google.com/github/PebbleBuilds/acc-class/blob/crnn/CRNN_Final_Exps.ipynb\" target=\"_parent\"><img src=\"https://colab.research.google.com/assets/colab-badge.svg\" alt=\"Open In Colab\"/></a>"
      ]
    },
    {
      "cell_type": "markdown",
      "metadata": {
        "id": "1XTY1stVzi_e"
      },
      "source": [
        "## Config"
      ]
    },
    {
      "cell_type": "code",
      "metadata": {
        "id": "-5LihfE-zkzG"
      },
      "source": [
        "train_dataset_path = \"/content/drive/My Drive/APS360 Group Project/data_testing/pure_augmentation\"\n",
        "classes = [\"english\",\"mandarin\",\"india\"]\n",
        "\n",
        "raw_dataset_path = \"/content/drive/My Drive/APS360 Group Project/data_testing/pure_augmentation/raw_10s_3classes_npy\"\n",
        "\n",
        "aug = True\n",
        "\n",
        "if aug:\n",
        "    train_set_folders = []\n",
        "\n",
        "else:\n",
        "    train_set_folders = []\n",
        "\n",
        "model_checkpoints_abs_path = \"/content/drive/My Drive/APS360 Group Project/model_checkpoints\""
      ],
      "execution_count": 3,
      "outputs": []
    },
    {
      "cell_type": "markdown",
      "metadata": {
        "id": "vU-EC3ycVz7B"
      },
      "source": [
        "## Imports and Colab Mount"
      ]
    },
    {
      "cell_type": "code",
      "metadata": {
        "id": "4-UZbCAxL4vy"
      },
      "source": [
        "import numpy as np\n",
        "import time\n",
        "import torch\n",
        "import torch.nn as nn\n",
        "import torch.nn.functional as F\n",
        "import torch.optim as optim\n",
        "import torchvision\n",
        "from torch.utils.data.sampler import SubsetRandomSampler\n",
        "from torch.utils.data import ConcatDataset\n",
        "import torchvision.transforms as transforms\n",
        "import matplotlib.pyplot as plt \n",
        "import librosa\n",
        "import librosa.display\n",
        "import os\n",
        "import cv2"
      ],
      "execution_count": 4,
      "outputs": []
    },
    {
      "cell_type": "code",
      "metadata": {
        "colab": {
          "base_uri": "https://localhost:8080/"
        },
        "id": "22eaeTRa0-2r",
        "outputId": "4e77f81a-779f-4364-9f63-ef998d0e4b7e"
      },
      "source": [
        "from google.colab import drive\n",
        "drive.mount('/content/drive/')"
      ],
      "execution_count": 5,
      "outputs": [
        {
          "output_type": "stream",
          "text": [
            "Mounted at /content/drive/\n"
          ],
          "name": "stdout"
        }
      ]
    },
    {
      "cell_type": "markdown",
      "metadata": {
        "id": "9cxAIOxyV3ZX"
      },
      "source": [
        "## Utility Function Definitions"
      ]
    },
    {
      "cell_type": "markdown",
      "metadata": {
        "id": "wU2TJS5pzKxl"
      },
      "source": [
        "train_data_components = []\n",
        "  for folder in train_set_folders:\n",
        "    folder_path = os.path.join(train_dataset_path, folder, 'train')\n",
        "    train_data_components.append(torchvision.datasets.ImageFolder(root=os.path.join(folder_path), transform=data_transform))\n",
        "  train_data = ConcatDataset(train_data_components)"
      ]
    },
    {
      "cell_type": "code",
      "metadata": {
        "id": "1VSU0Km9Mgpz"
      },
      "source": [
        "# can also load in data as numpy arrays directly \n",
        "def numpy_loader(input):\n",
        "    item = np.load(input)\n",
        "    return item\n",
        "\n",
        "def generate_data_numpy():\n",
        "  data_transform = transforms.Compose([transforms.ToTensor()])\n",
        "  raw_train_data = torchvision.datasets.DatasetFolder(root=os.path.join(raw_dataset_path, \"train\"), loader=numpy_loader,extensions='.npy',transform=data_transform)\n",
        "  val_data = torchvision.datasets.DatasetFolder(root=os.path.join(raw_dataset_path, \"validation\"), loader=numpy_loader,extensions='.npy',transform=data_transform)\n",
        "\n",
        "  train_data_components = [raw_train_data]\n",
        "  for folder in train_set_folders:\n",
        "    folder_path = os.path.join(train_dataset_path, folder, 'train')\n",
        "    train_data_components.append(torchvision.datasets.DatasetFolder(root=folder_path, loader=numpy_loader,extensions='.npy',transform=data_transform))\n",
        "  train_data = ConcatDataset(train_data_components)\n",
        "  return raw_train_data, val_data, []\n",
        "\n",
        "def visualize_numpy_data(dataset):\n",
        "    batch = 27\n",
        "    num_workers = 1\n",
        "\n",
        "    data_loader = torch.utils.data.DataLoader(dataset, batch_size=batch, num_workers=num_workers, shuffle=True)\n",
        "\n",
        "    # Visualize some sample data\n",
        "    classes = ['english', 'mandarin', 'india']\n",
        "\n",
        "    # obtain one batch of training images\n",
        "    dataiter = iter(data_loader)\n",
        "    array, labels = dataiter.next()\n",
        "    array = array.numpy() # convert images to numpy for display\n",
        "    plt.figure()\n",
        "    librosa.display.specshow(array[0][0])\n",
        "    plt.colorbar()\n",
        "\n",
        "    print(\"Array shape is\", array.shape)\n",
        "    return array.shape\n",
        "    \n",
        "# train utils \n",
        "\n",
        "def get_accuracy_rnn(model, data_loader):\n",
        "    correct = 0\n",
        "    total = 0\n",
        "    for array, labels in data_loader:\n",
        "        if torch.cuda.is_available():\n",
        "          array = array.cuda()\n",
        "          labels = labels.cuda()\n",
        "        input_array = array.float().cuda().transpose(1,2)\n",
        "        out = model(input_array) \n",
        "        pred = out.max(1, keepdim=True)[1]\n",
        "        correct += pred.eq(labels.view_as(pred)).sum().item()\n",
        "        total += input_array.shape[0]\n",
        "    return correct / total\n",
        "\n",
        "def get_model_name(name, batch_size, learning_rate, epoch):\n",
        "    path = \"model_{0}_bs{1}_lr{2}_epoch{3}\".format(name,\n",
        "                                                   batch_size,\n",
        "                                                   learning_rate,\n",
        "                                                   epoch)\n",
        "    return path\n",
        "\n",
        "def plot_graphs(iters, train_loss, val_loss, train_acc, val_acc):\n",
        "    plt.title(\"Training Curve\")\n",
        "    plt.plot(iters, train_loss, label=\"Train\")\n",
        "    #plt.plot (iters, val_loss, label = \"Validation\")\n",
        "    plt.xlabel(\"Iterations\")\n",
        "    plt.ylabel(\"Loss\")\n",
        "    plt.show()\n",
        "    plt.title(\"Training Curve\")\n",
        "    plt.plot(iters, train_acc, label=\"Train\")\n",
        "    plt.plot(iters, val_acc, label=\"Validation\")\n",
        "    plt.xlabel(\"Iterations\")\n",
        "    plt.ylabel(\"Training Accuracy\")\n",
        "    plt.legend(loc='best')\n",
        "    plt.show()\n",
        "\n",
        "def get_accuracy_cnn(model, data_loader):\n",
        "    correct = 0\n",
        "    total = 0\n",
        "    for imgs, labels in data_loader:\n",
        "        if torch.cuda.is_available():\n",
        "          imgs = imgs.cuda().float()\n",
        "          labels = labels.cuda()\n",
        "        out = model(imgs) \n",
        "        pred = out.max(1, keepdim=True)[1]\n",
        "        correct += pred.eq(labels.view_as(pred)).sum().item()\n",
        "        total += imgs.shape[0]\n",
        "    return correct / total"
      ],
      "execution_count": 9,
      "outputs": []
    },
    {
      "cell_type": "markdown",
      "metadata": {
        "id": "ZVpWBoHbWCfR"
      },
      "source": [
        "## Data Gen"
      ]
    },
    {
      "cell_type": "code",
      "metadata": {
        "colab": {
          "base_uri": "https://localhost:8080/",
          "height": 287
        },
        "id": "jZHnesmCPuoW",
        "outputId": "104d6ff3-e56b-4349-9702-deb479bffa15"
      },
      "source": [
        "train_data, val_data, []= generate_data_numpy()\n",
        "(batch_size, dummy, mfcc_bands, length) = visualize_numpy_data(train_data)\n",
        "print(mfcc_bands)"
      ],
      "execution_count": 7,
      "outputs": [
        {
          "output_type": "stream",
          "text": [
            "Array shape is (27, 1, 13, 431)\n",
            "13\n"
          ],
          "name": "stdout"
        },
        {
          "output_type": "display_data",
          "data": {
            "image/png": "[encoded data removed]",
            "text/plain": [
              "<Figure size 432x288 with 2 Axes>"
            ]
          },
          "metadata": {
            "tags": [],
            "needs_background": "light"
          }
        }
      ]
    },
    {
      "cell_type": "code",
      "metadata": {
        "colab": {
          "base_uri": "https://localhost:8080/"
        },
        "id": "8qRBOzAlvNMX",
        "outputId": "a272f3b1-b522-4d1a-be7f-6e350ca9f5a8"
      },
      "source": [
        "from collections import Counter\n",
        "\n",
        "print(dict(Counter(train_data.targets)))\n",
        "train_data.classes"
      ],
      "execution_count": 8,
      "outputs": [
        {
          "output_type": "stream",
          "text": [
            "{0: 126, 1: 162, 2: 184}\n"
          ],
          "name": "stdout"
        },
        {
          "output_type": "execute_result",
          "data": {
            "text/plain": [
              "['english', 'india', 'mandarin']"
            ]
          },
          "metadata": {
            "tags": []
          },
          "execution_count": 8
        }
      ]
    },
    {
      "cell_type": "markdown",
      "metadata": {
        "id": "2gjvmRFTV9Ip"
      },
      "source": [
        "## Train Func"
      ]
    },
    {
      "cell_type": "code",
      "metadata": {
        "id": "65YgDzOvGJ90"
      },
      "source": [
        "def train_crnn_net(net, batch_size=8, num_workers = 1, learning_rate=0.005, num_epochs=30):\n",
        "    torch.manual_seed(5)\n",
        "    \n",
        "    # Obtain the PyTorch data loader objects to load batches of the datasets\n",
        "    train_loader = torch.utils.data.DataLoader(train_data, batch_size=batch_size, num_workers=num_workers, shuffle=True, drop_last=True)\n",
        "    val_loader = torch.utils.data.DataLoader(val_data, batch_size=batch_size, num_workers=num_workers, shuffle=True, drop_last=True)\n",
        "\n",
        "    # The loss function will be Cross Entropy and Optimizer will be Adam.\n",
        "    criterion = nn.CrossEntropyLoss()\n",
        "    optimizer = optim.Adam(net.parameters(), lr=learning_rate)\n",
        "\n",
        "    iters, losses, train_acc, val_acc = [], [], [], []\n",
        "\n",
        "    # training\n",
        "    n = 0 # the number of iterations\n",
        "    start_time=time.time()\n",
        "    best_val_acc = 0 \n",
        "    for epoch in range(num_epochs):\n",
        "        mini_b=0\n",
        "        mini_batch_correct = 0\n",
        "        mini_batch_total = 0\n",
        "        epoch_correct = 0\n",
        "        epoch_total = 0\n",
        "        for imgs, labels in train_loader:\n",
        "            # Get the inputs\n",
        "            if torch.cuda.is_available():\n",
        "              array = imgs.cuda()\n",
        "              labels = labels.cuda()\n",
        "              net = net.cuda()\n",
        "\n",
        "            # Forward pass, backward pass, and optimize\n",
        "            input_array = array.float().cuda()\n",
        "            out = net(input_array)             # forward pass\n",
        "            loss = criterion(out, labels) # compute the total loss\n",
        "            loss.backward()               # backward pass (compute parameter updates)\n",
        "            optimizer.step()              # make the updates for each parameter\n",
        "            optimizer.zero_grad()         # a clean up step for PyTorch\n",
        "\n",
        "            # Mini_batch Accuracy\n",
        "            pred = out.max(1, keepdim=True)[1]\n",
        "            mini_batch_correct = pred.eq(labels.view_as(pred)).sum().item()\n",
        "            mini_batch_total = input_array.shape[0]\n",
        "            mini_batch_acc = mini_batch_correct / mini_batch_total\n",
        "            train_acc.append(mini_batch_acc)\n",
        "\n",
        "            # Saving epoch accuracy\n",
        "            epoch_correct += mini_batch_correct \n",
        "            epoch_total += mini_batch_total \n",
        "\n",
        "            # save the current training information\n",
        "            iters.append(n)\n",
        "            losses.append(float(loss)/batch_size)             # compute *average* loss\n",
        "            val_acc.append(get_accuracy_cnn(net, val_loader))  # compute validation accuracy\n",
        "            n += 1\n",
        "            mini_b += 1\n",
        "\n",
        "        print(\"Epoch: \",epoch,\"Train Accuracy: \",epoch_correct/epoch_total,'Val Accuracy: ', val_acc[-1],'Progress: % 6.2f ' % ((epoch * len(train_loader) + mini_b) / (num_epochs * len(train_loader))*100),'%', \"Time Elapsed: % 6.2f s \" % (time.time()-start_time))\n",
        "        print (\"Epoch %d Finished. \" % epoch ,\"Time per Epoch: % 6.2f s \"% ((time.time()-start_time) / (epoch +1)))\n",
        "\n",
        "        if epoch>30 and val_acc[-1]>best_val_acc:\n",
        "            print(\"SAVED MODEL\")\n",
        "            model_name = get_model_name(net.name, batch_size, learning_rate, epoch + 1)\n",
        "            checkpoint_subdir_path = get_model_name(net.name, batch_size, learning_rate, str(epoch+1))\n",
        "            full_checkpoint_path = os.path.join(model_checkpoints_abs_path, checkpoint_subdir_path)\n",
        "            try:\n",
        "                torch.save(net.state_dict(), os.path.join(full_checkpoint_path,model_name))\n",
        "            except FileNotFoundError:\n",
        "                os.makedirs(full_checkpoint_path)\n",
        "                torch.save(net.state_dict(), os.path.join(full_checkpoint_path,model_name))\n",
        "        if val_acc[-1]>best_val_acc:\n",
        "            best_val_acc = val_acc[-1]\n",
        "        if n % 10 == 0:\n",
        "            plot_graphs(iters, losses, [], train_acc, val_acc)\n",
        "    print('Finished Training')\n",
        "    end_time = time.time()\n",
        "    elapsed_time = end_time - start_time\n",
        "    print (\"Total time:  % 6.2f s  Time per Epoch: % 6.2f s \" % ( elapsed_time, (elapsed_time / num_epochs) ))"
      ],
      "execution_count": 10,
      "outputs": []
    },
    {
      "cell_type": "markdown",
      "metadata": {
        "id": "5D9luc4YWNvJ"
      },
      "source": [
        "## Experiments"
      ]
    },
    {
      "cell_type": "markdown",
      "metadata": {
        "id": "125qD04_N__9"
      },
      "source": [
        "### CRNN:\n",
        "\n",
        "27 Batch, epoch 40, lr 0.001, \n",
        "dataset: raw_3classes_20bands_10s_npy_CRNN, conv 32, 64, fc 25,12 hidden size 50, batch 27\n"
      ]
    },
    {
      "cell_type": "code",
      "metadata": {
        "id": "aIJqqMfoQV3V"
      },
      "source": [
        "class CRNN(nn.Module):\n",
        "    def __init__(self, config):\n",
        "        # input params\n",
        "        self.name = config.get(\"name\", \"CRNN_placeholder\")\n",
        "        self.num_classes = config.get(\"num_classes\", 3)\n",
        "        # for CNN\n",
        "        self.input_dims = config.get(\"input_dims\", [0])\n",
        "        # for RNN\n",
        "        self.hidden_size = config.get(\"hidden_size\", 0)\n",
        "        self.nonlinearity = config.get(\"nonlinearity\", 'relu')\n",
        "        self.dropout = config.get(\"dropout\", 0)\n",
        "        self.batch_size = self.input_dims[0]\n",
        "        \n",
        "        super(CRNN, self).__init__()\n",
        "        # CNN layers\n",
        "        self.conv1 = nn.Conv2d(1, 32, 3) #in_channels, out_chanels, kernel_size\n",
        "        self.pool = nn.MaxPool2d(2, 2) #kernel_size, stride \n",
        "        self.conv2 = nn.Conv2d(32, 64, 3) #in_channels, out_chanels, kernel_size\n",
        "\n",
        "        # CNN output dimension\n",
        "        self.conv_output_dim = self.dimension_checker()\n",
        "\n",
        "        # RNN layers\n",
        "        self.rnn = nn.RNN(input_size=self.conv_output_dim[-1], hidden_size=self.hidden_size, batch_first=True, num_layers=self.num_classes, nonlinearity=self.nonlinearity, dropout=self.dropout)\n",
        "\n",
        "        # Fully connected layers\n",
        "        self.fc = nn.Sequential(nn.Linear(self.hidden_size, 25),\n",
        "                                nn.Linear(25,12),\n",
        "                            nn.Linear(12, self.num_classes),)\n",
        "\n",
        "    def dimension_checker(self):\n",
        "        dummy = torch.empty(self.input_dims)\n",
        "        return(tuple(self.conv_portion(dummy).shape))\n",
        "\n",
        "    def conv_portion(self, img):\n",
        "        # print(img.shape)\n",
        "        x = self.pool(F.relu(self.conv1(img)))\n",
        "        x = self.pool(F.relu(self.conv2(x)))\n",
        "        x = torch.reshape(x,(self.batch_size, 1, x.shape[1]*x.shape[2], x.shape[3]))\n",
        "        x = x.squeeze().transpose(1,2)\n",
        "        return x\n",
        "\n",
        "    def forward(self, input):\n",
        "        x = self.conv_portion(input)\n",
        "        h0 = torch.zeros(self.num_classes, self.batch_size, self.hidden_size).cuda()\n",
        "\n",
        "        out, _ = self.rnn(x, h0)\n",
        "        output = self.fc(torch.max(out, dim=1)[0])\n",
        "        return output"
      ],
      "execution_count": 11,
      "outputs": []
    }
  ]
}